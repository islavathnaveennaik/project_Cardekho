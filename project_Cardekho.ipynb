{
  "nbformat": 4,
  "nbformat_minor": 0,
  "metadata": {
    "colab": {
      "provenance": [],
      "authorship_tag": "ABX9TyMXRmYYi8D9TbXq5uLCNShW",
      "include_colab_link": true
    },
    "kernelspec": {
      "name": "python3",
      "display_name": "Python 3"
    },
    "language_info": {
      "name": "python"
    }
  },
  "cells": [
    {
      "cell_type": "markdown",
      "metadata": {
        "id": "view-in-github",
        "colab_type": "text"
      },
      "source": [
        "<a href=\"https://colab.research.google.com/github/islavathnaveennaik/project_Cardekho/blob/main/project_Cardekho.ipynb\" target=\"_parent\"><img src=\"https://colab.research.google.com/assets/colab-badge.svg\" alt=\"Open In Colab\"/></a>"
      ]
    },
    {
      "cell_type": "markdown",
      "source": [
        "\n",
        "\n",
        "#The project's primary objective is to create a data science solution for accurately predicting used car prices by analyzing a diverse dataset including car model, no. of owners, age, mileage, fuel type, kilometers driven, features, and location. The aim is to build a machine-learning model that allows users to find current valuations for used cars."
      ],
      "metadata": {
        "id": "jq0K5NNBx3qR"
      }
    },
    {
      "cell_type": "markdown",
      "source": [
        "#Step 1: Import Libraries and Load Data"
      ],
      "metadata": {
        "id": "ZFSHP_UQjRnc"
      }
    },
    {
      "cell_type": "code",
      "source": [
        "# Import necessary libraries\n",
        "import pandas as pd\n",
        "import numpy as np\n",
        "import matplotlib.pyplot as plt\n",
        "import seaborn as sns\n",
        "from sklearn.model_selection import train_test_split\n",
        "from sklearn.preprocessing import StandardScaler, OneHotEncoder\n",
        "from sklearn.ensemble import RandomForestRegressor\n",
        "from sklearn.metrics import mean_squared_error, r2_score\n",
        "from sklearn.model_selection import GridSearchCV\n",
        "\n",
        "# Load the dataset\n",
        "from google.colab import drive\n",
        "drive.mount('/content/drive')\n",
        "\n",
        "# Load the Excel file\n",
        "file_path = '/content/kolkata_cars.xlsx'  # Update with your file path\n",
        "df = pd.read_excel(file_path, sheet_name='kolkata_cars.csv')\n",
        "\n",
        "# Display the first few rows\n",
        "print(df.head())"
      ],
      "metadata": {
        "id": "jbVhQtWgeJJu"
      },
      "execution_count": null,
      "outputs": []
    },
    {
      "cell_type": "markdown",
      "source": [
        "#Step 2: Data Understanding and Preprocessing\n",
        "Check for Missing Values and Data Types"
      ],
      "metadata": {
        "id": "YwhVMDV0jdyL"
      }
    },
    {
      "cell_type": "code",
      "source": [
        "# Check for missing values\n",
        "print(df.isnull().sum())\n",
        "\n",
        "# Check data types\n",
        "print(df.info())"
      ],
      "metadata": {
        "colab": {
          "base_uri": "https://localhost:8080/"
        },
        "id": "-PvQvCIbency",
        "outputId": "730e9e88-95cc-4acf-8b3e-b60f772c57a0"
      },
      "execution_count": null,
      "outputs": [
        {
          "output_type": "stream",
          "name": "stdout",
          "text": [
            "new_car_detail      0\n",
            "new_car_overview    0\n",
            "new_car_feature     0\n",
            "new_car_specs       0\n",
            "car_links           0\n",
            "dtype: int64\n",
            "<class 'pandas.core.frame.DataFrame'>\n",
            "RangeIndex: 1381 entries, 0 to 1380\n",
            "Data columns (total 5 columns):\n",
            " #   Column            Non-Null Count  Dtype \n",
            "---  ------            --------------  ----- \n",
            " 0   new_car_detail    1381 non-null   object\n",
            " 1   new_car_overview  1381 non-null   object\n",
            " 2   new_car_feature   1381 non-null   object\n",
            " 3   new_car_specs     1381 non-null   object\n",
            " 4   car_links         1381 non-null   object\n",
            "dtypes: object(5)\n",
            "memory usage: 54.1+ KB\n",
            "None\n"
          ]
        }
      ]
    },
    {
      "cell_type": "markdown",
      "source": [
        "#Extract Relevant Features\n"
      ],
      "metadata": {
        "id": "JPVI7AEFqvb4"
      }
    },
    {
      "source": [
        "# Extract relevant features from 'new_car_detail'\n",
        "# Assuming 'new_car_detail' is a column containing dictionaries\n",
        "# If it's a different data structure, adjustments will be needed\n",
        "\n",
        "# Check if 'new_car_detail' column exists\n",
        "if 'new_car_detail' in df.columns:\n",
        "    df['fuel_type'] = df['new_car_detail'].apply(lambda x: x.get('ft', np.nan) if isinstance(x, dict) else np.nan)\n",
        "    df['body_type'] = df['new_car_detail'].apply(lambda x: x.get('bt', np.nan) if isinstance(x, dict) else np.nan)\n",
        "    df['km_driven'] = df['new_car_detail'].apply(lambda x: x.get('km', np.nan) if isinstance(x, dict) else np.nan)\n",
        "    df['transmission'] = df['new_car_detail'].apply(lambda x: x.get('transmission', np.nan) if isinstance(x, dict) else np.nan)\n",
        "    df['owner'] = df['new_car_detail'].apply(lambda x: x.get('owner', np.nan) if isinstance(x, dict) else np.nan)\n",
        "# Extract relevant features from 'new_car_detail'\n",
        "# Assuming 'new_car_detail' is a column containing dictionaries\n",
        "# If it's a different data structure, adjustments will be needed\n",
        "\n",
        "# Check if 'new_car_detail' column exists\n",
        "if 'new_car_detail' in df.columns:\n",
        "    df['fuel_type'] = df['new_car_detail'].apply(lambda x: x.get('ft', np.nan) if isinstance(x, dict) else np.nan)\n",
        "    df['body_type'] = df['new_car_detail'].apply(lambda x: x.get('bt', np.nan) if isinstance(x, dict) else np.nan)\n",
        "    df['km_driven'] = df['new_car_detail'].apply(lambda x: x.get('km', np.nan) if isinstance(x, dict) else np.nan)\n",
        "    df['transmission'] = df['new_car_detail'].apply(lambda x: x.get('transmission', np.nan) if isinstance(x, dict) else np.nan)\n",
        "    df['owner'] = df['new_car_detail'].apply(lambda x: x.get('owner', np.nan) if isinstance(x, dict) else np.nan)\n",
        "    df['oem'] = df['new_car_detail'].apply(lambda x: x.get('oem', np.nan) if isinstance(x, dict) else np.nan)\n",
        "    df['model'] = df['new_car_detail'].apply(lambda x: x.get('model', np.nan) if isinstance(x, dict) else np.nan)\n",
        "    df['model_year'] = df['new_car_detail'].apply(lambda x: x.get('modelYear', np.nan) if isinstance(x, dict) else np.nan)"
      ],
      "cell_type": "code",
      "metadata": {
        "id": "xzrTBwVngZqy"
      },
      "execution_count": null,
      "outputs": []
    },
    {
      "source": [
        "# Convert 'price' column to string type before applying string operations\n",
        "df['price'] = df['price'].astype(str)\n",
        "\n",
        "# Convert price to numeric"
      ],
      "cell_type": "code",
      "metadata": {
        "id": "rHNxXU3kgqlX"
      },
      "execution_count": null,
      "outputs": []
    },
    {
      "cell_type": "code",
      "source": [
        "# Drop unnecessary columns\n",
        "# These columns are probably already removed or renamed after extracting features in the previous cell.\n",
        "# Instead, drop only 'new_car_detail' if it still exists.\n",
        "try:\n",
        "    df = df.drop(columns=['new_car_detail'])\n",
        "except KeyError:\n",
        "    print(\"Column 'new_car_detail' already dropped or doesn't exist.\")\n",
        "\n",
        "# If you still want to remove specific columns, double-check their names in the DataFrame:\n",
        "# print(df.columns)  # Print the current columns of the DataFrame\n",
        "# Then drop the columns that actually exist using their correct names."
      ],
      "metadata": {
        "id": "o23Cr-efhI7A"
      },
      "execution_count": null,
      "outputs": []
    },
    {
      "cell_type": "code",
      "source": [
        "# Display the cleaned dataframe\n",
        "print(df.head())"
      ],
      "metadata": {
        "colab": {
          "base_uri": "https://localhost:8080/"
        },
        "id": "noQo5yrxg6sf",
        "outputId": "0c3d65e3-720e-4083-a2a3-d3737ed70749"
      },
      "execution_count": null,
      "outputs": [
        {
          "output_type": "stream",
          "name": "stdout",
          "text": [
            "   fuel_type  body_type  km_driven  transmission  owner  oem  model  \\\n",
            "0        NaN        NaN        NaN           NaN    NaN  NaN    NaN   \n",
            "1        NaN        NaN        NaN           NaN    NaN  NaN    NaN   \n",
            "2        NaN        NaN        NaN           NaN    NaN  NaN    NaN   \n",
            "3        NaN        NaN        NaN           NaN    NaN  NaN    NaN   \n",
            "4        NaN        NaN        NaN           NaN    NaN  NaN    NaN   \n",
            "\n",
            "   model_year price  \n",
            "0         NaN   nan  \n",
            "1         NaN   nan  \n",
            "2         NaN   nan  \n",
            "3         NaN   nan  \n",
            "4         NaN   nan  \n"
          ]
        }
      ]
    },
    {
      "cell_type": "markdown",
      "source": [
        "#Extract Relevant Features"
      ],
      "metadata": {
        "id": "N57FiOlWq3l6"
      }
    },
    {
      "source": [
        "# Fill missing values (if any)\n",
        "# Check if 'km_driven' is not already numeric (float)\n",
        "if not pd.api.types.is_numeric_dtype(df['km_driven']):\n",
        "    df['km_driven'] = df['km_driven'].str.replace(',', '', regex=False).astype(float)\n",
        "df['km_driven'].fillna(df['km_driven'].median(), inplace=True)"
      ],
      "cell_type": "code",
      "metadata": {
        "id": "0Cy24xeihy1u"
      },
      "execution_count": null,
      "outputs": []
    },
    {
      "cell_type": "markdown",
      "source": [
        "#Exploratory Data Analysis (EDA)\n",
        "Distribution of Target Variable"
      ],
      "metadata": {
        "id": "z2_XuwV0q_3k"
      }
    },
    {
      "cell_type": "code",
      "source": [
        "# Plot the distribution of car prices\n",
        "plt.figure(figsize=(10, 6))\n",
        "sns.histplot(df['price'], bins=30, kde=True)\n",
        "plt.title('Distribution of Car Prices')\n",
        "plt.xlabel('Price (in Lakhs)')\n",
        "plt.ylabel('Frequency')\n",
        "plt.show()"
      ],
      "metadata": {
        "colab": {
          "base_uri": "https://localhost:8080/",
          "height": 564
        },
        "id": "wNuCEtnmh53M",
        "outputId": "c53978f6-12fd-462b-dfd7-2cacecf0e102"
      },
      "execution_count": null,
      "outputs": [
        {
          "output_type": "display_data",
          "data": {
            "text/plain": [
              "<Figure size 1000x600 with 1 Axes>"
            ],
            "image/png": "[encoded data removed]"
          },
          "metadata": {}
        }
      ]
    },
    {
      "cell_type": "markdown",
      "source": [
        "#JAIPUR"
      ],
      "metadata": {
        "id": "kM_ZeYxqj2TR"
      }
    },
    {
      "source": [
        "# Load the Excel file\n",
        "file_path = '/content/jaipur_cars.xlsx'  # Update with your file path\n",
        "df_jaipur = pd.read_excel(file_path, sheet_name='jaipur_cars.csv')  # Use a different variable name\n",
        "\n",
        "# Display the first few rows\n",
        "print(df_jaipur.head())\n",
        "\n",
        "# ... (rest of your code for Jaipur data processing) ...\n",
        "\n",
        "# Convert 'price' column to string type before applying string operations\n",
        "# Check if the 'price' column exists in the DataFrame before accessing it\n",
        "if 'price' in df_jaipur.columns: # Check if 'price' column exists\n",
        "    df_jaipur['price'] = df_jaipur['price'].astype(str)\n",
        "    # ... any further operations on 'price' column ...\n",
        "else:\n",
        "    print(\"Column 'price' not found in the DataFrame.\")\n",
        "\n",
        "# Extract relevant features from 'new_car_detail' for df_jaipur\n",
        "if 'new_car_detail' in df_jaipur.columns:\n",
        "    df_jaipur['fuel_type'] = df_jaipur['new_car_detail'].apply(lambda x: x.get('ft', np.nan) if isinstance(x, dict) else np.nan)\n",
        "    df_jaipur['body_type'] = df_jaipur['new_car_detail'].apply(lambda x: x.get('bt', np.nan) if isinstance(x, dict) else np.nan)\n",
        "    df_jaipur['km_driven'] = df_jaipur['new_car_detail'].apply(lambda x: x.get('km', np.nan) if isinstance(x, dict) else np.nan)\n",
        "    df_jaipur['transmission'] = df_jaipur['new_car_detail'].apply(lambda x: x.get('transmission', np.nan) if isinstance(x, dict) else np.nan)\n",
        "    df_jaipur['owner'] = df_jaipur['new_car_detail'].apply(lambda x: x.get('owner', np.nan) if isinstance(x, dict) else np.nan)\n",
        "    df_jaipur['oem'] = df_jaipur['new_car_detail'].apply(lambda x: x.get('oem', np.nan) if isinstance(x, dict) else np.nan)\n",
        "    df_jaipur['model'] = df_jaipur['new_car_detail'].apply(lambda x: x.get('model', np.nan) if isinstance(x, dict) else np.nan)\n",
        "    df_jaipur['model_year'] = df_jaipur['new_car_detail'].apply(lambda x: x.get('modelYear', np.nan) if isinstance(x, dict) else np.nan)\n",
        "\n",
        "\n",
        "# Now you can drop the 'new_car_detail' column\n",
        "try:\n",
        "    df_jaipur = df_jaipur.drop(columns=['new_car_detail']) # Use df_jaipur instead of df\n",
        "except KeyError:\n",
        "    print(\"Column 'new_car_detail' already dropped or doesn't exist.\")\n",
        "\n",
        "# ... (rest of your code for Jaipur data processing) ..."
      ],
      "cell_type": "code",
      "metadata": {
        "colab": {
          "base_uri": "https://localhost:8080/"
        },
        "id": "1DtsfUX6meJS",
        "outputId": "700d06f4-4361-4664-b2cd-c475c7649b8c"
      },
      "execution_count": null,
      "outputs": [
        {
          "output_type": "stream",
          "name": "stdout",
          "text": [
            "                                      new_car_detail  \\\n",
            "0  {'it': 0, 'ft': 'Diesel', 'bt': 'Hatchback', '...   \n",
            "1  {'it': 0, 'ft': 'Petrol', 'bt': 'Hatchback', '...   \n",
            "2  {'it': 0, 'ft': 'Petrol', 'bt': 'Hatchback', '...   \n",
            "3  {'it': 0, 'ft': 'Petrol', 'bt': 'Hatchback', '...   \n",
            "4  {'it': 0, 'ft': 'Petrol', 'bt': 'Hatchback', '...   \n",
            "\n",
            "                                    new_car_overview  \\\n",
            "0  {'heading': 'Car overview', 'top': [{'key': 'R...   \n",
            "1  {'heading': 'Car overview', 'top': [{'key': 'R...   \n",
            "2  {'heading': 'Car overview', 'top': [{'key': 'R...   \n",
            "3  {'heading': 'Car overview', 'top': [{'key': 'R...   \n",
            "4  {'heading': 'Car overview', 'top': [{'key': 'R...   \n",
            "\n",
            "                                     new_car_feature  \\\n",
            "0  {'heading': 'Features', 'top': [{'value': 'Pow...   \n",
            "1  {'heading': 'Features', 'top': [{'value': 'Pow...   \n",
            "2  {'heading': 'Features', 'top': [{'value': 'Pow...   \n",
            "3  {'heading': 'Features', 'top': [{'value': 'Pow...   \n",
            "4  {'heading': 'Features', 'top': [{'value': 'Pow...   \n",
            "\n",
            "                                       new_car_specs  \\\n",
            "0  {'heading': 'Specifications', 'top': [{'key': ...   \n",
            "1  {'heading': 'Specifications', 'top': [{'key': ...   \n",
            "2  {'heading': 'Specifications', 'top': [{'key': ...   \n",
            "3  {'heading': 'Specifications', 'top': [{'key': ...   \n",
            "4  {'heading': 'Specifications', 'top': [{'key': ...   \n",
            "\n",
            "                                           car_links  \n",
            "0  https://www.cardekho.com/used-car-details/used...  \n",
            "1  https://www.cardekho.com/buy-used-car-details/...  \n",
            "2  https://www.cardekho.com/used-car-details/used...  \n",
            "3  https://www.cardekho.com/buy-used-car-details/...  \n",
            "4  https://www.cardekho.com/used-car-details/used...  \n",
            "Column 'price' not found in the DataFrame.\n"
          ]
        }
      ]
    },
    {
      "source": [
        "# Extract relevant features from 'new_car_detail' for df_jaipur\n",
        "if 'new_car_detail' in df_jaipur.columns:\n",
        "    df_jaipur['fuel_type'] = df_jaipur['new_car_detail'].apply(lambda x: x.get('ft', np.nan) if isinstance(x, dict) else np.nan)\n",
        "    df_jaipur['body_type'] = df_jaipur['new_car_detail'].apply(lambda x: x.get('bt', np.nan) if isinstance(x, dict) else np.nan)\n",
        "    df_jaipur['km_driven'] = df_jaipur['new_car_detail'].apply(lambda x: x.get('km', np.nan) if isinstance(x, dict) else np.nan)\n",
        "    df_jaipur['transmission'] = df_jaipur['new_car_detail'].apply(lambda x: x.get('transmission', np.nan) if isinstance(x, dict) else np.nan)\n",
        "    df_jaipur['owner'] = df_jaipur['new_car_detail'].apply(lambda x: x.get('owner', np.nan) if isinstance(x, dict) else np.nan)\n",
        "    df_jaipur['oem'] = df_jaipur['new_car_detail'].apply(lambda x: x.get('oem', np.nan) if isinstance(x, dict) else np.nan)\n",
        "    df_jaipur['model'] = df_jaipur['new_car_detail'].apply(lambda x: x.get('model', np.nan) if isinstance(x, dict) else np.nan)\n",
        "    df_jaipur['model_year'] = df_jaipur['new_car_detail'].apply(lambda x: x.get('modelYear', np.nan) if isinstance(x, dict) else np.nan)\n",
        "\n",
        "# Now you can continue with the rest of your code:\n",
        "# ... (rest of your code for Jaipur data processing) ...\n",
        "\n",
        "# Fill missing values (if any)\n",
        "if not pd.api.types.is_numeric_dtype(df_jaipur['km_driven']):\n",
        "    df_jaipur['km_driven'] = df_jaipur['km_driven'].str.replace(',', '', regex=False).astype(float)\n",
        "df_jaipur['km_driven'].fillna(df_jaipur['km_driven'].median(), inplace=True)"
      ],
      "cell_type": "code",
      "metadata": {
        "colab": {
          "base_uri": "https://localhost:8080/"
        },
        "id": "dKHgip23mHSY",
        "outputId": "5d7c1f4f-822b-4c7d-fe07-942bf5d91a4b"
      },
      "execution_count": null,
      "outputs": [
        {
          "output_type": "stream",
          "name": "stderr",
          "text": [
            "<ipython-input-63-ee700a700796>:18: FutureWarning: A value is trying to be set on a copy of a DataFrame or Series through chained assignment using an inplace method.\n",
            "The behavior will change in pandas 3.0. This inplace method will never work because the intermediate object on which we are setting values always behaves as a copy.\n",
            "\n",
            "For example, when doing 'df[col].method(value, inplace=True)', try using 'df.method({col: value}, inplace=True)' or df[col] = df[col].method(value) instead, to perform the operation inplace on the original object.\n",
            "\n",
            "\n",
            "  df_jaipur['km_driven'].fillna(df_jaipur['km_driven'].median(), inplace=True)\n"
          ]
        }
      ]
    },
    {
      "source": [
        "# Plot the distribution of car prices\n",
        "plt.figure(figsize=(10, 6))\n",
        "# Make sure 'price' column exists and is numeric\n",
        "if 'price' in df_jaipur.columns and pd.api.types.is_numeric_dtype(df_jaipur['price']):\n",
        "    sns.histplot(df_jaipur['price'], bins=30, kde=True) # Use df_jaipur instead of df\n",
        "    plt.title('Distribution of Car Prices')\n",
        "    plt.xlabel('Price (in Lakhs)')\n",
        "    plt.ylabel('Frequency')\n",
        "    plt.show()\n",
        "else:\n",
        "    print(\"Column 'price' not found or not numeric in the DataFrame.\")"
      ],
      "cell_type": "code",
      "metadata": {
        "colab": {
          "base_uri": "https://localhost:8080/",
          "height": 52
        },
        "id": "RvA6lCfOlyKl",
        "outputId": "0c6aa608-f701-411d-81ec-e28a72aff7bd"
      },
      "execution_count": null,
      "outputs": [
        {
          "output_type": "stream",
          "name": "stdout",
          "text": [
            "Column 'price' not found or not numeric in the DataFrame.\n"
          ]
        },
        {
          "output_type": "display_data",
          "data": {
            "text/plain": [
              "<Figure size 1000x600 with 0 Axes>"
            ]
          },
          "metadata": {}
        }
      ]
    },
    {
      "cell_type": "markdown",
      "source": [
        "#HYDERABAD"
      ],
      "metadata": {
        "id": "fncTnOGQnSWG"
      }
    },
    {
      "source": [
        "# Load the Excel file\n",
        "file_path = '/content/hyderabad_cars clean_data.xlsx'  # Update with your file path\n",
        "df = pd.read_excel(file_path, sheet_name='hyderabad_cars.csv')\n",
        "\n",
        "# Display the first few rows\n",
        "print(df.head())\n",
        "\n",
        "# Check if 'price' column exists, if not try 'Price'\n",
        "if 'price' not in df.columns:\n",
        "    if 'Price' in df.columns:  # Check for 'Price' column\n",
        "        print(\"Column 'price' not found, renaming 'Price' to 'price'\")\n",
        "        df.rename(columns={'Price': 'price'}, inplace=True)  # Rename to 'price'\n",
        "    else:\n",
        "        print(\"Column 'price' or 'Price' not found in the DataFrame.\")\n",
        "        # Possible solutions:\n",
        "        # 1. Check the sheet name and file path to ensure they are correct.\n",
        "        # 2. Check the actual column name in the Excel file and use that name instead of 'price'.\n",
        "        # 3. If the column is missing, you might need to investigate why and potentially fix the data source.\n",
        "        # For now, I'll stop execution to prevent further errors.\n",
        "        # import sys; sys.exit()  # Uncomment to stop execution if 'price' is essential\n",
        "\n",
        "# Convert 'price' column to string type before applying string operations (if it exists)\n",
        "if 'price' in df.columns:\n",
        "    df['price'] = df['price'].astype(str)\n",
        "\n",
        "    # Convert price to numeric\n",
        "    # ... (your code to convert price to numeric) ..."
      ],
      "cell_type": "code",
      "metadata": {
        "colab": {
          "base_uri": "https://localhost:8080/"
        },
        "id": "yYXjIE6pso5Z",
        "outputId": "733ef1e8-83e0-475c-867c-7153fa3847ca"
      },
      "execution_count": null,
      "outputs": [
        {
          "output_type": "stream",
          "name": "stdout",
          "text": [
            "                                      new_car_detail  \\\n",
            "0  {'it': 0, 'ft': 'Petrol', 'bt': 'Hatchback', '...   \n",
            "1  {'it': 0, 'ft': 'Petrol', 'bt': 'Hatchback', '...   \n",
            "2  {'it': 0, 'ft': 'Petrol', 'bt': 'SUV', 'km': '...   \n",
            "3  {'it': 0, 'ft': 'Petrol', 'bt': 'Hatchback', '...   \n",
            "4  {'it': 0, 'ft': 'Petrol', 'bt': 'SUV', 'km': '...   \n",
            "\n",
            "                                    new_car_overview  \\\n",
            "0  {'heading': 'Car overview', 'top': [{'key': 'R...   \n",
            "1  {'heading': 'Car overview', 'top': [{'key': 'R...   \n",
            "2  {'heading': 'Car overview', 'top': [{'key': 'R...   \n",
            "3  {'heading': 'Car overview', 'top': [{'key': 'R...   \n",
            "4  {'heading': 'Car overview', 'top': [{'key': 'R...   \n",
            "\n",
            "                                     new_car_feature new_car_specs  car_links  \\\n",
            "0  {'heading': 'Features', 'top': [{'value': 'Pow...           NaN        NaN   \n",
            "1  {'heading': 'Features', 'top': [{'value': 'Pow...       Mileage   21.1 kmp   \n",
            "2  {'heading': 'Features', 'top': [{'value': 'Pow...        Engine    1197 CC   \n",
            "3  {'heading': 'Features', 'top': [{'value': 'Pow...       Mileage   21.4 kmp   \n",
            "4  {'heading': 'Features', 'top': [{'value': 'Pow...        Engine    1997 CC   \n",
            "\n",
            "            Unnamed: 5           Unnamed: 6           Unnamed: 7  \\\n",
            "0                  NaN                  NaN                  NaN   \n",
            "1     {'key': 'Engine'    value': '814 CC'}  {'key': 'Max Power'   \n",
            "2  {'key': 'Max Power'  value': '81.80bhp'}     {'key': 'Torque'   \n",
            "3     {'key': 'Engine'   value': '1197 CC'}  {'key': 'Max Power'   \n",
            "4  {'key': 'Max Power'    value': '150bhp'}     {'key': 'Torque'   \n",
            "\n",
            "           Unnamed: 8            Unnamed: 9  ... Unnamed: 89 Unnamed: 90  \\\n",
            "0                 NaN                   NaN  ...         NaN         NaN   \n",
            "1  value': '55.2bhp'}      {'key': 'Torque'  ...         NaN         NaN   \n",
            "2  value': '113.8Nm'}       {'key': 'Seats'  ...         NaN         NaN   \n",
            "3  value': '83.1bhp'}      {'key': 'Torque'  ...         NaN         NaN   \n",
            "4    value': '320Nm'}  {'key': 'Wheel Size'  ...         NaN         NaN   \n",
            "\n",
            "  Unnamed: 91 Unnamed: 92 Unnamed: 93 Unnamed: 94 Unnamed: 95 Unnamed: 96  \\\n",
            "0         NaN         NaN         NaN         NaN         NaN         NaN   \n",
            "1         NaN         NaN         NaN         NaN         NaN         NaN   \n",
            "2         NaN         NaN         NaN         NaN         NaN         NaN   \n",
            "3         NaN         NaN         NaN         NaN         NaN         NaN   \n",
            "4         NaN         NaN         NaN         NaN         NaN         NaN   \n",
            "\n",
            "  Unnamed: 97 Unnamed: 98  \n",
            "0         NaN         NaN  \n",
            "1         NaN         NaN  \n",
            "2         NaN         NaN  \n",
            "3         NaN         NaN  \n",
            "4         NaN         NaN  \n",
            "\n",
            "[5 rows x 99 columns]\n",
            "Column 'price' or 'Price' not found in the DataFrame.\n"
          ]
        }
      ]
    },
    {
      "cell_type": "code",
      "source": [
        "# Drop unnecessary columns\n",
        "# These columns are probably already removed or renamed after extracting features in the previous cell.\n",
        "# Instead, drop only 'new_car_detail' if it still exists.\n",
        "try:\n",
        "    df = df.drop(columns=['new_car_detail'])\n",
        "except KeyError:\n",
        "    print(\"Column 'new_car_detail' already dropped or doesn't exist.\")\n",
        "\n",
        "# If you still want to remove specific columns, double-check their names in the DataFrame:\n",
        "# print(df.columns)  # Print the current columns of the DataFrame\n",
        "# Then drop the columns that actually exist using their correct names."
      ],
      "metadata": {
        "id": "6keIWPUEs5gY"
      },
      "execution_count": null,
      "outputs": []
    },
    {
      "cell_type": "code",
      "source": [
        "# Display the cleaned dataframe\n",
        "print(df.head())"
      ],
      "metadata": {
        "colab": {
          "base_uri": "https://localhost:8080/"
        },
        "id": "A7qddx25s-kY",
        "outputId": "f2e0268a-e4e7-4953-d877-0236916fd091"
      },
      "execution_count": null,
      "outputs": [
        {
          "output_type": "stream",
          "name": "stdout",
          "text": [
            "                                    new_car_overview  \\\n",
            "0  {'heading': 'Car overview', 'top': [{'key': 'R...   \n",
            "1  {'heading': 'Car overview', 'top': [{'key': 'R...   \n",
            "2  {'heading': 'Car overview', 'top': [{'key': 'R...   \n",
            "3  {'heading': 'Car overview', 'top': [{'key': 'R...   \n",
            "4  {'heading': 'Car overview', 'top': [{'key': 'R...   \n",
            "\n",
            "                                     new_car_feature new_car_specs  car_links  \\\n",
            "0  {'heading': 'Features', 'top': [{'value': 'Pow...           NaN        NaN   \n",
            "1  {'heading': 'Features', 'top': [{'value': 'Pow...       Mileage   21.1 kmp   \n",
            "2  {'heading': 'Features', 'top': [{'value': 'Pow...        Engine    1197 CC   \n",
            "3  {'heading': 'Features', 'top': [{'value': 'Pow...       Mileage   21.4 kmp   \n",
            "4  {'heading': 'Features', 'top': [{'value': 'Pow...        Engine    1997 CC   \n",
            "\n",
            "            Unnamed: 5           Unnamed: 6           Unnamed: 7  \\\n",
            "0                  NaN                  NaN                  NaN   \n",
            "1     {'key': 'Engine'    value': '814 CC'}  {'key': 'Max Power'   \n",
            "2  {'key': 'Max Power'  value': '81.80bhp'}     {'key': 'Torque'   \n",
            "3     {'key': 'Engine'   value': '1197 CC'}  {'key': 'Max Power'   \n",
            "4  {'key': 'Max Power'    value': '150bhp'}     {'key': 'Torque'   \n",
            "\n",
            "           Unnamed: 8            Unnamed: 9        Unnamed: 10  ...  \\\n",
            "0                 NaN                   NaN                NaN  ...   \n",
            "1  value': '55.2bhp'}      {'key': 'Torque'  value': '74.5Nm'}  ...   \n",
            "2  value': '113.8Nm'}       {'key': 'Seats'      value': '5'}]  ...   \n",
            "3  value': '83.1bhp'}      {'key': 'Torque'   value': '115Nm'}  ...   \n",
            "4    value': '320Nm'}  {'key': 'Wheel Size'      value': '18'}  ...   \n",
            "\n",
            "  Unnamed: 89 Unnamed: 90 Unnamed: 91 Unnamed: 92 Unnamed: 93 Unnamed: 94  \\\n",
            "0         NaN         NaN         NaN         NaN         NaN         NaN   \n",
            "1         NaN         NaN         NaN         NaN         NaN         NaN   \n",
            "2         NaN         NaN         NaN         NaN         NaN         NaN   \n",
            "3         NaN         NaN         NaN         NaN         NaN         NaN   \n",
            "4         NaN         NaN         NaN         NaN         NaN         NaN   \n",
            "\n",
            "  Unnamed: 95 Unnamed: 96 Unnamed: 97 Unnamed: 98  \n",
            "0         NaN         NaN         NaN         NaN  \n",
            "1         NaN         NaN         NaN         NaN  \n",
            "2         NaN         NaN         NaN         NaN  \n",
            "3         NaN         NaN         NaN         NaN  \n",
            "4         NaN         NaN         NaN         NaN  \n",
            "\n",
            "[5 rows x 98 columns]\n"
          ]
        }
      ]
    },
    {
      "source": [
        "\n",
        "# Fill missing values (if any)\n",
        "# Check if 'km_driven' is not already numeric (float)\n",
        "if not pd.api.types.is_numeric_dtype(df['km_driven']):\n",
        "    df['km_driven'] = df['km_driven'].str.replace(',', '', regex=False).astype(float)\n",
        "df['km_driven'].fillna(df['km_driven'].median(), inplace=True)"
      ],
      "cell_type": "code",
      "metadata": {
        "colab": {
          "base_uri": "https://localhost:8080/"
        },
        "id": "7y5oCchrtWBW",
        "outputId": "89b85062-903a-45d2-f269-e95276b65114"
      },
      "execution_count": null,
      "outputs": [
        {
          "output_type": "stream",
          "name": "stderr",
          "text": [
            "<ipython-input-88-44e1aa4d643e>:5: FutureWarning: A value is trying to be set on a copy of a DataFrame or Series through chained assignment using an inplace method.\n",
            "The behavior will change in pandas 3.0. This inplace method will never work because the intermediate object on which we are setting values always behaves as a copy.\n",
            "\n",
            "For example, when doing 'df[col].method(value, inplace=True)', try using 'df.method({col: value}, inplace=True)' or df[col] = df[col].method(value) instead, to perform the operation inplace on the original object.\n",
            "\n",
            "\n",
            "  df['km_driven'].fillna(df['km_driven'].median(), inplace=True)\n"
          ]
        }
      ]
    },
    {
      "source": [
        "# Plot the distribution of car prices\n",
        "plt.figure(figsize=(10, 6))\n",
        "\n",
        "# Check if 'price' column exists, if not try 'Price'\n",
        "if 'price' not in df.columns:\n",
        "    if 'Price' in df.columns:  # Check for 'Price' column\n",
        "        print(\"Column 'price' not found, renaming 'Price' to 'price'\")\n",
        "        df.rename(columns={'Price': 'price'}, inplace=True)  # Rename to 'price'\n",
        "    else:\n",
        "        print(\"Column 'price' or 'Price' not found in the DataFrame.\")\n",
        "        # Possible solutions:\n",
        "        # 1. Check the sheet name and file path to ensure they are correct.\n",
        "        # 2. Check the actual column name in the Excel file and use that name instead of 'price'.\n",
        "        # 3. If the column is missing, you might need to investigate why and potentially fix the data source.\n",
        "        # For now, I'll stop execution to prevent further errors.\n",
        "        # import sys; sys.exit()  # Uncomment to stop execution if 'price' is essential\n",
        "\n",
        "# If 'price' column exists after the check, proceed with plotting\n",
        "if 'price' in df.columns:\n",
        "    sns.histplot(df['price'], bins=30, kde=True)\n",
        "    plt.title('Distribution of Car Prices')\n",
        "    plt.xlabel('Price (in Lakhs)')\n",
        "    plt.ylabel('Frequency')\n",
        "    plt.show()"
      ],
      "cell_type": "code",
      "metadata": {
        "colab": {
          "base_uri": "https://localhost:8080/",
          "height": 52
        },
        "id": "OG8nI_F7t4j-",
        "outputId": "d87479f9-2400-4e94-d6ee-8711b483d8fe"
      },
      "execution_count": null,
      "outputs": [
        {
          "output_type": "stream",
          "name": "stdout",
          "text": [
            "Column 'price' or 'Price' not found in the DataFrame.\n"
          ]
        },
        {
          "output_type": "display_data",
          "data": {
            "text/plain": [
              "<Figure size 1000x600 with 0 Axes>"
            ]
          },
          "metadata": {}
        }
      ]
    },
    {
      "cell_type": "markdown",
      "source": [
        "#DELHI\n"
      ],
      "metadata": {
        "id": "1U_OfZcAuPdH"
      }
    },
    {
      "cell_type": "code",
      "source": [
        "# Load the Excel file\n",
        "file_path = '/content/delhi_cars.xlsx'  # Update with your file path\n",
        "df = pd.read_excel(file_path, sheet_name='delhi_cars.csv')\n",
        "\n",
        "# Display the first few rows\n",
        "print(df.head())\n",
        "\n",
        "# Check if 'price' column exists, if not try 'Price'\n",
        "if 'price' not in df.columns:\n",
        "    if 'Price' in df.columns:  # Check for 'Price' column\n",
        "        print(\"Column 'price' not found, renaming 'Price' to 'price'\")\n",
        "        df.rename(columns={'Price': 'price'}, inplace=True)  # Rename to 'price'\n",
        "    else:\n",
        "        print(\"Column 'price' or 'Price' not found in the DataFrame.\")\n",
        "        # Possible solutions:\n",
        "        # 1. Check the sheet name and file path to ensure they are correct.\n",
        "        # 2. Check the actual column name in the Excel file and use that name instead of 'price'.\n",
        "        # 3. If the column is missing, you might need to investigate why and potentially fix the data source.\n",
        "        # For now, I'll stop execution to prevent further errors.\n",
        "        # import sys; sys.exit()  # Uncomment to stop execution if 'price' is essential\n",
        "\n",
        "# Convert 'price' column to string type before applying string operations (if it exists)\n",
        "if 'price' in df.columns:\n",
        "    df['price'] = df['price'].astype(str)\n",
        "\n",
        "    # Convert price to numeric\n",
        "    # ... (your code to convert price to numeric) ..."
      ],
      "metadata": {
        "colab": {
          "base_uri": "https://localhost:8080/"
        },
        "id": "USajTIyYukDm",
        "outputId": "50482cb9-9f8d-407d-acc9-9aa4fe113d7f"
      },
      "execution_count": null,
      "outputs": [
        {
          "output_type": "stream",
          "name": "stdout",
          "text": [
            "                                      new_car_detail  \\\n",
            "0  {'it': 0, 'ft': 'Diesel', 'bt': 'SUV', 'km': '...   \n",
            "1  {'it': 0, 'ft': 'Petrol', 'bt': 'SUV', 'km': '...   \n",
            "2  {'it': 0, 'ft': 'Petrol', 'bt': 'SUV', 'km': '...   \n",
            "3  {'it': 0, 'ft': 'Petrol', 'bt': 'Hatchback', '...   \n",
            "4  {'it': 0, 'ft': 'Petrol', 'bt': 'SUV', 'km': '...   \n",
            "\n",
            "                                    new_car_overview  \\\n",
            "0  {'heading': 'Car overview', 'top': [{'key': 'R...   \n",
            "1  {'heading': 'Car overview', 'top': [{'key': 'R...   \n",
            "2  {'heading': 'Car overview', 'top': [{'key': 'R...   \n",
            "3  {'heading': 'Car overview', 'top': [{'key': 'R...   \n",
            "4  {'heading': 'Car overview', 'top': [{'key': 'R...   \n",
            "\n",
            "                                     new_car_feature  \\\n",
            "0  {'heading': 'Features', 'top': [{'value': 'Pow...   \n",
            "1  {'heading': 'Features', 'top': [{'value': 'Pow...   \n",
            "2  {'heading': 'Features', 'top': [{'value': 'Pow...   \n",
            "3  {'heading': 'Features', 'top': [{'value': 'Pow...   \n",
            "4  {'heading': 'Features', 'top': [{'value': 'Pow...   \n",
            "\n",
            "                                       new_car_specs  \\\n",
            "0  {'heading': 'Specifications', 'top': [{'key': ...   \n",
            "1  {'heading': 'Specifications', 'top': [{'key': ...   \n",
            "2  {'heading': 'Specifications', 'top': [{'key': ...   \n",
            "3  {'heading': 'Specifications', 'top': [{'key': ...   \n",
            "4  {'heading': 'Specifications', 'top': [{'key': ...   \n",
            "\n",
            "                                           car_links  \n",
            "0  https://www.cardekho.com/used-car-details/used...  \n",
            "1  https://www.cardekho.com/buy-used-car-details/...  \n",
            "2  https://www.cardekho.com/used-car-details/used...  \n",
            "3  https://www.cardekho.com/buy-used-car-details/...  \n",
            "4  https://www.cardekho.com/used-car-details/used...  \n",
            "Column 'price' or 'Price' not found in the DataFrame.\n"
          ]
        }
      ]
    },
    {
      "cell_type": "code",
      "source": [
        "# Drop unnecessary columns\n",
        "# These columns are probably already removed or renamed after extracting features in the previous cell.\n",
        "# Instead, drop only 'new_car_detail' if it still exists.\n",
        "try:\n",
        "    df = df.drop(columns=['new_car_detail'])\n",
        "except KeyError:\n",
        "    print(\"Column 'new_car_detail' already dropped or doesn't exist.\")\n",
        "\n",
        "# If you still want to remove specific columns, double-check their names in the DataFrame:\n",
        "# print(df.columns)  # Print the current columns of the DataFrame\n",
        "# Then drop the columns that actually exist using their correct names."
      ],
      "metadata": {
        "id": "OQzmKWkZu-c9"
      },
      "execution_count": null,
      "outputs": []
    },
    {
      "cell_type": "code",
      "source": [
        "# Display the cleaned dataframe\n",
        "print(df.head())"
      ],
      "metadata": {
        "colab": {
          "base_uri": "https://localhost:8080/"
        },
        "id": "-ml0BA0KvD4f",
        "outputId": "b90a65e7-5b96-4b6f-f83a-02d70013a4a6"
      },
      "execution_count": null,
      "outputs": [
        {
          "output_type": "stream",
          "name": "stdout",
          "text": [
            "                                    new_car_overview  \\\n",
            "0  {'heading': 'Car overview', 'top': [{'key': 'R...   \n",
            "1  {'heading': 'Car overview', 'top': [{'key': 'R...   \n",
            "2  {'heading': 'Car overview', 'top': [{'key': 'R...   \n",
            "3  {'heading': 'Car overview', 'top': [{'key': 'R...   \n",
            "4  {'heading': 'Car overview', 'top': [{'key': 'R...   \n",
            "\n",
            "                                     new_car_feature  \\\n",
            "0  {'heading': 'Features', 'top': [{'value': 'Pow...   \n",
            "1  {'heading': 'Features', 'top': [{'value': 'Pow...   \n",
            "2  {'heading': 'Features', 'top': [{'value': 'Pow...   \n",
            "3  {'heading': 'Features', 'top': [{'value': 'Pow...   \n",
            "4  {'heading': 'Features', 'top': [{'value': 'Pow...   \n",
            "\n",
            "                                       new_car_specs  \\\n",
            "0  {'heading': 'Specifications', 'top': [{'key': ...   \n",
            "1  {'heading': 'Specifications', 'top': [{'key': ...   \n",
            "2  {'heading': 'Specifications', 'top': [{'key': ...   \n",
            "3  {'heading': 'Specifications', 'top': [{'key': ...   \n",
            "4  {'heading': 'Specifications', 'top': [{'key': ...   \n",
            "\n",
            "                                           car_links  \n",
            "0  https://www.cardekho.com/used-car-details/used...  \n",
            "1  https://www.cardekho.com/buy-used-car-details/...  \n",
            "2  https://www.cardekho.com/used-car-details/used...  \n",
            "3  https://www.cardekho.com/buy-used-car-details/...  \n",
            "4  https://www.cardekho.com/used-car-details/used...  \n"
          ]
        }
      ]
    },
    {
      "cell_type": "code",
      "source": [
        "# Fill missing values (if any)\n",
        "# Check if 'km_driven' is not already numeric (float)\n",
        "if not pd.api.types.is_numeric_dtype(df['km_driven']):\n",
        "    df['km_driven'] = df['km_driven'].str.replace(',', '', regex=False).astype(float)\n",
        "df['km_driven'].fillna(df['km_driven'].median(), inplace=True)"
      ],
      "metadata": {
        "colab": {
          "base_uri": "https://localhost:8080/"
        },
        "id": "JZBwgkNPvJU5",
        "outputId": "766dcb48-d2c9-4b36-e8bb-d5cdbb120f14"
      },
      "execution_count": null,
      "outputs": [
        {
          "output_type": "stream",
          "name": "stderr",
          "text": [
            "<ipython-input-97-44e1aa4d643e>:5: FutureWarning: A value is trying to be set on a copy of a DataFrame or Series through chained assignment using an inplace method.\n",
            "The behavior will change in pandas 3.0. This inplace method will never work because the intermediate object on which we are setting values always behaves as a copy.\n",
            "\n",
            "For example, when doing 'df[col].method(value, inplace=True)', try using 'df.method({col: value}, inplace=True)' or df[col] = df[col].method(value) instead, to perform the operation inplace on the original object.\n",
            "\n",
            "\n",
            "  df['km_driven'].fillna(df['km_driven'].median(), inplace=True)\n"
          ]
        }
      ]
    },
    {
      "cell_type": "code",
      "source": [
        "# Plot the distribution of car prices\n",
        "plt.figure(figsize=(10, 6))\n",
        "\n",
        "# Check if 'price' column exists, if not try 'Price'\n",
        "if 'price' not in df.columns:\n",
        "    if 'Price' in df.columns:  # Check for 'Price' column\n",
        "        print(\"Column 'price' not found, renaming 'Price' to 'price'\")\n",
        "        df.rename(columns={'Price': 'price'}, inplace=True)  # Rename to 'price'\n",
        "    else:\n",
        "        print(\"Column 'price' or 'Price' not found in the DataFrame.\")\n",
        "        # Possible solutions:\n",
        "        # 1. Check the sheet name and file path to ensure they are correct.\n",
        "        # 2. Check the actual column name in the Excel file and use that name instead of 'price'.\n",
        "        # 3. If the column is missing, you might need to investigate why and potentially fix the data source.\n",
        "        # For now, I'll stop execution to prevent further errors.\n",
        "        # import sys; sys.exit()  # Uncomment to stop execution if 'price' is essential\n",
        "\n",
        "# If 'price' column exists after the check, proceed with plotting\n",
        "if 'price' in df.columns:\n",
        "    sns.histplot(df['price'], bins=30, kde=True)\n",
        "    plt.title('Distribution of Car Prices')\n",
        "    plt.xlabel('Price (in Lakhs)')\n",
        "    plt.ylabel('Frequency')\n",
        "    plt.show()"
      ],
      "metadata": {
        "colab": {
          "base_uri": "https://localhost:8080/",
          "height": 52
        },
        "id": "zT45XjQdvk0l",
        "outputId": "e13e47d7-2472-442a-b850-223278984eb5"
      },
      "execution_count": null,
      "outputs": [
        {
          "output_type": "stream",
          "name": "stdout",
          "text": [
            "Column 'price' or 'Price' not found in the DataFrame.\n"
          ]
        },
        {
          "output_type": "display_data",
          "data": {
            "text/plain": [
              "<Figure size 1000x600 with 0 Axes>"
            ]
          },
          "metadata": {}
        }
      ]
    },
    {
      "cell_type": "markdown",
      "source": [
        "#CHENNAI"
      ],
      "metadata": {
        "id": "vBuPNkgevuvQ"
      }
    },
    {
      "cell_type": "code",
      "source": [
        "# Load the Excel file\n",
        "file_path = '/content/chennai_cars.xlsx'  # Update with your file path\n",
        "df = pd.read_excel(file_path, sheet_name='chennai_cars.csv')\n",
        "\n",
        "# Display the first few rows\n",
        "print(df.head())\n",
        "\n",
        "# Check if 'price' column exists, if not try 'Price'\n",
        "if 'price' not in df.columns:\n",
        "    if 'Price' in df.columns:  # Check for 'Price' column\n",
        "        print(\"Column 'price' not found, renaming 'Price' to 'price'\")\n",
        "        df.rename(columns={'Price': 'price'}, inplace=True)  # Rename to 'price'\n",
        "    else:\n",
        "        print(\"Column 'price' or 'Price' not found in the DataFrame.\")\n",
        "        # Possible solutions:\n",
        "        # 1. Check the sheet name and file path to ensure they are correct.\n",
        "        # 2. Check the actual column name in the Excel file and use that name instead of 'price'.\n",
        "        # 3. If the column is missing, you might need to investigate why and potentially fix the data source.\n",
        "        # For now, I'll stop execution to prevent further errors.\n",
        "        # import sys; sys.exit()  # Uncomment to stop execution if 'price' is essential\n",
        "\n",
        "# Convert 'price' column to string type before applying string operations (if it exists)\n",
        "if 'price' in df.columns:\n",
        "    df['price'] = df['price'].astype(str)\n",
        "\n",
        "    # Convert price to numeric\n",
        "    # ... (your code to convert price to numeric) ..."
      ],
      "metadata": {
        "colab": {
          "base_uri": "https://localhost:8080/"
        },
        "id": "R_pp9iejvx-8",
        "outputId": "37fac114-0bfb-4b7d-d119-f2272d293519"
      },
      "execution_count": null,
      "outputs": [
        {
          "output_type": "stream",
          "name": "stdout",
          "text": [
            "                                      new_car_detail  \\\n",
            "0  {'it': 0, 'ft': 'Petrol', 'bt': 'SUV', 'km': '...   \n",
            "1  {'it': 0, 'ft': 'Petrol', 'bt': 'Minivans', 'k...   \n",
            "2  {'it': 0, 'ft': 'Petrol', 'bt': 'SUV', 'km': '...   \n",
            "3  {'it': 0, 'ft': 'Petrol', 'bt': 'Hatchback', '...   \n",
            "4  {'it': 0, 'ft': 'Petrol', 'bt': 'Hatchback', '...   \n",
            "\n",
            "                                    new_car_overview  \\\n",
            "0  {'heading': 'Car overview', 'top': [{'key': 'R...   \n",
            "1  {'heading': 'Car overview', 'top': [{'key': 'R...   \n",
            "2  {'heading': 'Car overview', 'top': [{'key': 'R...   \n",
            "3  {'heading': 'Car overview', 'top': [{'key': 'R...   \n",
            "4  {'heading': 'Car overview', 'top': [{'key': 'R...   \n",
            "\n",
            "                                     new_car_feature  \\\n",
            "0  {'heading': 'Features', 'top': [{'value': 'Pow...   \n",
            "1  {'heading': 'Features', 'top': [{'value': 'Low...   \n",
            "2  {'heading': 'Features', 'top': [{'value': 'Pow...   \n",
            "3  {'heading': 'Features', 'top': [{'value': 'Pow...   \n",
            "4  {'heading': 'Features', 'top': [{'value': 'Pow...   \n",
            "\n",
            "                                       new_car_specs  \n",
            "0  {'heading': 'Specifications', 'top': [{'key': ...  \n",
            "1  {'heading': 'Specifications', 'top': [{'key': ...  \n",
            "2  {'heading': 'Specifications', 'top': [{'key': ...  \n",
            "3  {'heading': 'Specifications', 'top': [{'key': ...  \n",
            "4  {'heading': 'Specifications', 'top': [{'key': ...  \n",
            "Column 'price' or 'Price' not found in the DataFrame.\n"
          ]
        }
      ]
    },
    {
      "cell_type": "code",
      "source": [
        "# Drop unnecessary columns\n",
        "# These columns are probably already removed or renamed after extracting features in the previous cell.\n",
        "# Instead, drop only 'new_car_detail' if it still exists.\n",
        "try:\n",
        "    df = df.drop(columns=['new_car_detail'])\n",
        "except KeyError:\n",
        "    print(\"Column 'new_car_detail' already dropped or doesn't exist.\")\n",
        "\n",
        "# If you still want to remove specific columns, double-check their names in the DataFrame:\n",
        "# print(df.columns)  # Print the current columns of the DataFrame\n",
        "# Then drop the columns that actually exist using their correct names."
      ],
      "metadata": {
        "id": "rSfXRE4ewBGJ"
      },
      "execution_count": null,
      "outputs": []
    },
    {
      "cell_type": "code",
      "source": [
        "# Display the cleaned dataframe\n",
        "print(df.head())"
      ],
      "metadata": {
        "colab": {
          "base_uri": "https://localhost:8080/"
        },
        "id": "9ujpYqg3wFCn",
        "outputId": "f28270b5-2836-4220-f728-664f6f975882"
      },
      "execution_count": null,
      "outputs": [
        {
          "output_type": "stream",
          "name": "stdout",
          "text": [
            "                                    new_car_overview  \\\n",
            "0  {'heading': 'Car overview', 'top': [{'key': 'R...   \n",
            "1  {'heading': 'Car overview', 'top': [{'key': 'R...   \n",
            "2  {'heading': 'Car overview', 'top': [{'key': 'R...   \n",
            "3  {'heading': 'Car overview', 'top': [{'key': 'R...   \n",
            "4  {'heading': 'Car overview', 'top': [{'key': 'R...   \n",
            "\n",
            "                                     new_car_feature  \\\n",
            "0  {'heading': 'Features', 'top': [{'value': 'Pow...   \n",
            "1  {'heading': 'Features', 'top': [{'value': 'Low...   \n",
            "2  {'heading': 'Features', 'top': [{'value': 'Pow...   \n",
            "3  {'heading': 'Features', 'top': [{'value': 'Pow...   \n",
            "4  {'heading': 'Features', 'top': [{'value': 'Pow...   \n",
            "\n",
            "                                       new_car_specs  \n",
            "0  {'heading': 'Specifications', 'top': [{'key': ...  \n",
            "1  {'heading': 'Specifications', 'top': [{'key': ...  \n",
            "2  {'heading': 'Specifications', 'top': [{'key': ...  \n",
            "3  {'heading': 'Specifications', 'top': [{'key': ...  \n",
            "4  {'heading': 'Specifications', 'top': [{'key': ...  \n"
          ]
        }
      ]
    },
    {
      "cell_type": "code",
      "source": [
        "# Fill missing values (if any)\n",
        "# Check if 'km_driven' is not already numeric (float)\n",
        "if not pd.api.types.is_numeric_dtype(df['km_driven']):\n",
        "    df['km_driven'] = df['km_driven'].str.replace(',', '', regex=False).astype(float)\n",
        "df['km_driven'].fillna(df['km_driven'].median(), inplace=True)"
      ],
      "metadata": {
        "colab": {
          "base_uri": "https://localhost:8080/"
        },
        "id": "olUESNnzwK4z",
        "outputId": "ccd4aa16-dee5-4095-c778-884b8b7672ec"
      },
      "execution_count": null,
      "outputs": [
        {
          "output_type": "stream",
          "name": "stderr",
          "text": [
            "<ipython-input-109-44e1aa4d643e>:5: FutureWarning: A value is trying to be set on a copy of a DataFrame or Series through chained assignment using an inplace method.\n",
            "The behavior will change in pandas 3.0. This inplace method will never work because the intermediate object on which we are setting values always behaves as a copy.\n",
            "\n",
            "For example, when doing 'df[col].method(value, inplace=True)', try using 'df.method({col: value}, inplace=True)' or df[col] = df[col].method(value) instead, to perform the operation inplace on the original object.\n",
            "\n",
            "\n",
            "  df['km_driven'].fillna(df['km_driven'].median(), inplace=True)\n"
          ]
        }
      ]
    },
    {
      "source": [
        "# Plot the distribution of car prices\n",
        "plt.figure(figsize=(10, 6))\n",
        "\n",
        "# Check if 'price' column exists, if not try 'Price'\n",
        "if 'price' not in df.columns:\n",
        "    if 'Price' in df.columns:  # Check for 'Price' column\n",
        "        print(\"Column 'price' not found, renaming 'Price' to 'price'\")\n",
        "        df.rename(columns={'Price': 'price'}, inplace=True)  # Rename to 'price'\n",
        "    else:\n",
        "        print(\"Column 'price' or 'Price' not found in the DataFrame.\")\n",
        "        # Possible solutions:\n",
        "        # 1. Check the sheet name and file path to ensure they are correct.\n",
        "        # 2. Check the actual column name in the Excel file and use that name instead of 'price'.\n",
        "        # 3. If the column is missing, you might need to investigate why and potentially fix the data source.\n",
        "        # For now, I'll stop execution to prevent further errors.\n",
        "        # import sys; sys.exit()  # Uncomment to stop execution if 'price' is essential\n",
        "\n",
        "# If 'price' column exists after the check, proceed with plotting\n",
        "if 'price' in df.columns:\n",
        "    # Convert 'price' to numeric if it's not already\n",
        "    if not pd.api.types.is_numeric_dtype(df['price']):\n",
        "        df['price'] = pd.to_numeric(df['price'], errors='coerce') # Convert to numeric, handle errors\n",
        "\n",
        "    sns.histplot(df['price'], bins=30, kde=True)\n",
        "    plt.title('Distribution of Car Prices')\n",
        "    plt.xlabel('Price (in Lakhs)')\n",
        "    plt.ylabel('Frequency')\n",
        "    plt.show()\n",
        "else:\n",
        "    print(\"Column 'price' not found for plotting.\") # More informative message"
      ],
      "cell_type": "code",
      "metadata": {
        "colab": {
          "base_uri": "https://localhost:8080/",
          "height": 69
        },
        "id": "1jnkct6gwrpK",
        "outputId": "a0a10e45-1470-4c81-b7ab-dfa08506ad30"
      },
      "execution_count": null,
      "outputs": [
        {
          "output_type": "stream",
          "name": "stdout",
          "text": [
            "Column 'price' or 'Price' not found in the DataFrame.\n",
            "Column 'price' not found for plotting.\n"
          ]
        },
        {
          "output_type": "display_data",
          "data": {
            "text/plain": [
              "<Figure size 1000x600 with 0 Axes>"
            ]
          },
          "metadata": {}
        }
      ]
    },
    {
      "cell_type": "markdown",
      "source": [
        "#BANGALORE\n"
      ],
      "metadata": {
        "id": "z2bTqhL-w0BT"
      }
    },
    {
      "cell_type": "code",
      "source": [
        "# Load the Excel file\n",
        "file_path = '/content/bangalore_cars.xlsx'  # Update with your file path\n",
        "df = pd.read_excel(file_path, sheet_name='bangalore_cars.csv')\n",
        "\n",
        "# Display the first few rows\n",
        "print(df.head())\n",
        "\n",
        "# Check if 'price' column exists, if not try 'Price'\n",
        "if 'price' not in df.columns:\n",
        "    if 'Price' in df.columns:  # Check for 'Price' column\n",
        "        print(\"Column 'price' not found, renaming 'Price' to 'price'\")\n",
        "        df.rename(columns={'Price': 'price'}, inplace=True)  # Rename to 'price'\n",
        "    else:\n",
        "        print(\"Column 'price' or 'Price' not found in the DataFrame.\")\n",
        "        # Possible solutions:\n",
        "        # 1. Check the sheet name and file path to ensure they are correct.\n",
        "        # 2. Check the actual column name in the Excel file and use that name instead of 'price'.\n",
        "        # 3. If the column is missing, you might need to investigate why and potentially fix the data source.\n",
        "        # For now, I'll stop execution to prevent further errors.\n",
        "        # import sys; sys.exit()  # Uncomment to stop execution if 'price' is essential\n",
        "\n",
        "# Convert 'price' column to string type before applying string operations (if it exists)\n",
        "if 'price' in df.columns:\n",
        "    df['price'] = df['price'].astype(str)\n",
        "\n",
        "    # Convert price to numeric\n",
        "    # ... (your code to convert price to numeric) ..."
      ],
      "metadata": {
        "colab": {
          "base_uri": "https://localhost:8080/"
        },
        "id": "m2jH37kjw4yr",
        "outputId": "b46886f9-4c7e-4608-cb3f-0825f118450c"
      },
      "execution_count": null,
      "outputs": [
        {
          "output_type": "stream",
          "name": "stdout",
          "text": [
            "                                      new_car_detail  \\\n",
            "0  {'it': 0, 'ft': 'Petrol', 'bt': 'Hatchback', '...   \n",
            "1  {'it': 0, 'ft': 'Petrol', 'bt': 'SUV', 'km': '...   \n",
            "2  {'it': 0, 'ft': 'Petrol', 'bt': 'Hatchback', '...   \n",
            "3  {'it': 0, 'ft': 'Petrol', 'bt': 'Sedan', 'km':...   \n",
            "4  {'it': 0, 'ft': 'Diesel', 'bt': 'SUV', 'km': '...   \n",
            "\n",
            "                                    new_car_overview  \\\n",
            "0  {'heading': 'Car overview', 'top': [{'key': 'R...   \n",
            "1  {'heading': 'Car overview', 'top': [{'key': 'R...   \n",
            "2  {'heading': 'Car overview', 'top': [{'key': 'R...   \n",
            "3  {'heading': 'Car overview', 'top': [{'key': 'R...   \n",
            "4  {'heading': 'Car overview', 'top': [{'key': 'R...   \n",
            "\n",
            "                                     new_car_feature  \\\n",
            "0  {'heading': 'Features', 'top': [{'value': 'Pow...   \n",
            "1  {'heading': 'Features', 'top': [{'value': 'Pow...   \n",
            "2  {'heading': 'Features', 'top': [{'value': 'Pow...   \n",
            "3  {'heading': 'Features', 'top': [{'value': 'Pow...   \n",
            "4  {'heading': 'Features', 'top': [{'value': 'Pow...   \n",
            "\n",
            "                                       new_car_specs  \\\n",
            "0  {'heading': 'Specifications', 'top': [{'key': ...   \n",
            "1  {'heading': 'Specifications', 'top': [{'key': ...   \n",
            "2  {'heading': 'Specifications', 'top': [{'key': ...   \n",
            "3  {'heading': 'Specifications', 'top': [{'key': ...   \n",
            "4  {'heading': 'Specifications', 'top': [{'key': ...   \n",
            "\n",
            "                                           car_links  \n",
            "0  https://www.cardekho.com/used-car-details/used...  \n",
            "1  https://www.cardekho.com/buy-used-car-details/...  \n",
            "2  https://www.cardekho.com/used-car-details/used...  \n",
            "3  https://www.cardekho.com/buy-used-car-details/...  \n",
            "4  https://www.cardekho.com/used-car-details/used...  \n",
            "Column 'price' or 'Price' not found in the DataFrame.\n"
          ]
        }
      ]
    },
    {
      "cell_type": "code",
      "source": [
        "# Drop unnecessary columns\n",
        "# These columns are probably already removed or renamed after extracting features in the previous cell.\n",
        "# Instead, drop only 'new_car_detail' if it still exists.\n",
        "try:\n",
        "    df = df.drop(columns=['new_car_detail'])\n",
        "except KeyError:\n",
        "    print(\"Column 'new_car_detail' already dropped or doesn't exist.\")\n",
        "\n",
        "# If you still want to remove specific columns, double-check their names in the DataFrame:\n",
        "# print(df.columns)  # Print the current columns of the DataFrame\n",
        "# Then drop the columns that actually exist using their correct names."
      ],
      "metadata": {
        "id": "HNh5Yk7rxLNn"
      },
      "execution_count": null,
      "outputs": []
    },
    {
      "cell_type": "code",
      "source": [
        "# Display the cleaned dataframe\n",
        "print(df.head())"
      ],
      "metadata": {
        "colab": {
          "base_uri": "https://localhost:8080/"
        },
        "id": "26ZbXzMYxQD3",
        "outputId": "02ccfcb0-04ee-4a46-8afc-4813871cb5c8"
      },
      "execution_count": null,
      "outputs": [
        {
          "output_type": "stream",
          "name": "stdout",
          "text": [
            "                                      new_car_detail  \\\n",
            "0  {'it': 0, 'ft': 'Petrol', 'bt': 'Hatchback', '...   \n",
            "1  {'it': 0, 'ft': 'Petrol', 'bt': 'SUV', 'km': '...   \n",
            "2  {'it': 0, 'ft': 'Petrol', 'bt': 'Hatchback', '...   \n",
            "3  {'it': 0, 'ft': 'Petrol', 'bt': 'Sedan', 'km':...   \n",
            "4  {'it': 0, 'ft': 'Diesel', 'bt': 'SUV', 'km': '...   \n",
            "\n",
            "                                    new_car_overview  \\\n",
            "0  {'heading': 'Car overview', 'top': [{'key': 'R...   \n",
            "1  {'heading': 'Car overview', 'top': [{'key': 'R...   \n",
            "2  {'heading': 'Car overview', 'top': [{'key': 'R...   \n",
            "3  {'heading': 'Car overview', 'top': [{'key': 'R...   \n",
            "4  {'heading': 'Car overview', 'top': [{'key': 'R...   \n",
            "\n",
            "                                     new_car_feature  \\\n",
            "0  {'heading': 'Features', 'top': [{'value': 'Pow...   \n",
            "1  {'heading': 'Features', 'top': [{'value': 'Pow...   \n",
            "2  {'heading': 'Features', 'top': [{'value': 'Pow...   \n",
            "3  {'heading': 'Features', 'top': [{'value': 'Pow...   \n",
            "4  {'heading': 'Features', 'top': [{'value': 'Pow...   \n",
            "\n",
            "                                       new_car_specs  \\\n",
            "0  {'heading': 'Specifications', 'top': [{'key': ...   \n",
            "1  {'heading': 'Specifications', 'top': [{'key': ...   \n",
            "2  {'heading': 'Specifications', 'top': [{'key': ...   \n",
            "3  {'heading': 'Specifications', 'top': [{'key': ...   \n",
            "4  {'heading': 'Specifications', 'top': [{'key': ...   \n",
            "\n",
            "                                           car_links  \n",
            "0  https://www.cardekho.com/used-car-details/used...  \n",
            "1  https://www.cardekho.com/buy-used-car-details/...  \n",
            "2  https://www.cardekho.com/used-car-details/used...  \n",
            "3  https://www.cardekho.com/buy-used-car-details/...  \n",
            "4  https://www.cardekho.com/used-car-details/used...  \n"
          ]
        }
      ]
    },
    {
      "cell_type": "code",
      "source": [
        "# Fill missing values (if any)\n",
        "# Check if 'km_driven' is not already numeric (float)\n",
        "if not pd.api.types.is_numeric_dtype(df['km_driven']):\n",
        "    df['km_driven'] = df['km_driven'].str.replace(',', '', regex=False).astype(float)\n",
        "df['km_driven'].fillna(df['km_driven'].median(), inplace=True)"
      ],
      "metadata": {
        "colab": {
          "base_uri": "https://localhost:8080/"
        },
        "id": "ExQSbK01xP6C",
        "outputId": "bcdf20a0-3d4d-4fc6-8fec-014bad4d164e"
      },
      "execution_count": null,
      "outputs": [
        {
          "output_type": "stream",
          "name": "stderr",
          "text": [
            "<ipython-input-122-44e1aa4d643e>:5: FutureWarning: A value is trying to be set on a copy of a DataFrame or Series through chained assignment using an inplace method.\n",
            "The behavior will change in pandas 3.0. This inplace method will never work because the intermediate object on which we are setting values always behaves as a copy.\n",
            "\n",
            "For example, when doing 'df[col].method(value, inplace=True)', try using 'df.method({col: value}, inplace=True)' or df[col] = df[col].method(value) instead, to perform the operation inplace on the original object.\n",
            "\n",
            "\n",
            "  df['km_driven'].fillna(df['km_driven'].median(), inplace=True)\n"
          ]
        }
      ]
    },
    {
      "cell_type": "code",
      "source": [
        "# Plot the distribution of car prices\n",
        "plt.figure(figsize=(10, 6))\n",
        "\n",
        "# Check if 'price' column exists, if not try 'Price'\n",
        "if 'price' not in df.columns:\n",
        "    if 'Price' in df.columns:  # Check for 'Price' column\n",
        "        print(\"Column 'price' not found, renaming 'Price' to 'price'\")\n",
        "        df.rename(columns={'Price': 'price'}, inplace=True)  # Rename to 'price'\n",
        "    else:\n",
        "        print(\"Column 'price' or 'Price' not found in the DataFrame.\")\n",
        "        # Possible solutions:\n",
        "        # 1. Check the sheet name and file path to ensure they are correct.\n",
        "        # 2. Check the actual column name in the Excel file and use that name instead of 'price'.\n",
        "        # 3. If the column is missing, you might need to investigate why and potentially fix the data source.\n",
        "        # For now, I'll stop execution to prevent further errors.\n",
        "        # import sys; sys.exit()  # Uncomment to stop execution if 'price' is essential\n",
        "\n",
        "# If 'price' column exists after the check, proceed with plotting\n",
        "if 'price' in df.columns:\n",
        "    sns.histplot(df['price'], bins=30, kde=True)\n",
        "    plt.title('Distribution of Car Prices')\n",
        "    plt.xlabel('Price (in Lakhs)')\n",
        "    plt.ylabel('Frequency')\n",
        "    plt.show()"
      ],
      "metadata": {
        "colab": {
          "base_uri": "https://localhost:8080/",
          "height": 52
        },
        "id": "LWAWPWngxpLI",
        "outputId": "d9982b7c-e5d2-438e-eb30-f35900a67863"
      },
      "execution_count": null,
      "outputs": [
        {
          "output_type": "stream",
          "name": "stdout",
          "text": [
            "Column 'price' or 'Price' not found in the DataFrame.\n"
          ]
        },
        {
          "output_type": "display_data",
          "data": {
            "text/plain": [
              "<Figure size 1000x600 with 0 Axes>"
            ]
          },
          "metadata": {}
        }
      ]
    }
  ]
}